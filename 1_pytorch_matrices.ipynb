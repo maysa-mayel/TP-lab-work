{
  "nbformat": 4,
  "nbformat_minor": 0,
  "metadata": {
    "anaconda-cloud": {},
    "kernelspec": {
      "display_name": "Python 3",
      "language": "python",
      "name": "python3"
    },
    "language_info": {
      "codemirror_mode": {
        "name": "ipython",
        "version": 3
      },
      "file_extension": ".py",
      "mimetype": "text/x-python",
      "name": "python",
      "nbconvert_exporter": "python",
      "pygments_lexer": "ipython3",
      "version": "3.6.10"
    },
    "colab": {
      "provenance": []
    },
    "accelerator": "GPU"
  },
  "cells": [
    {
      "cell_type": "markdown",
      "metadata": {
        "id": "sGvIF6q_BtiP"
      },
      "source": [
        "# PyTorch Fundamentals"
      ]
    },
    {
      "cell_type": "markdown",
      "metadata": {
        "collapsed": true,
        "id": "u6vTHhQ6Btib"
      },
      "source": [
        "## 1. Matrices\n",
        "\n",
        "\n",
        "### Matrices Brief Introduction\n",
        "- Basic definition: rectangular array of numbers.\n",
        "- Tensors (PyTorch)\n",
        "- Ndarrays (NumPy)"
      ]
    },
    {
      "cell_type": "markdown",
      "metadata": {
        "id": "UXGAnGcSBtid"
      },
      "source": [
        "**<center> 2 x 2 Matrix (R x C)</center>**"
      ]
    },
    {
      "cell_type": "markdown",
      "metadata": {
        "id": "9CIHMcb0Btie"
      },
      "source": [
        "1 | 1\n",
        "--- | ---\n",
        "1 | 1"
      ]
    },
    {
      "cell_type": "markdown",
      "metadata": {
        "id": "fB4gQKqXBtig"
      },
      "source": [
        "**<center> 2 x 3 Matrix </center>**"
      ]
    },
    {
      "cell_type": "markdown",
      "metadata": {
        "id": "8mpOh9obBtih"
      },
      "source": [
        "1 | 1 | 1\n",
        "--- | ---| ---\n",
        "1 | 1 | 1"
      ]
    },
    {
      "cell_type": "markdown",
      "metadata": {
        "id": "qPAxSUlxBtii"
      },
      "source": [
        "### 1.1 Creating Matrices"
      ]
    },
    {
      "cell_type": "code",
      "metadata": {
        "collapsed": true,
        "id": "pXhn902LBtij"
      },
      "source": [
        "import numpy as np"
      ],
      "execution_count": 4,
      "outputs": []
    },
    {
      "cell_type": "code",
      "metadata": {
        "id": "APR57HJFBtin",
        "colab": {
          "base_uri": "https://localhost:8080/"
        },
        "outputId": "763f30c9-bf01-4f56-ce77-37003c5b22a3"
      },
      "source": [
        "# Creating a 2x2 array\n",
        "arr = [[1, 2], [3, 4]]\n",
        "print(arr)"
      ],
      "execution_count": null,
      "outputs": [
        {
          "output_type": "stream",
          "name": "stdout",
          "text": [
            "[[1, 2], [3, 4]]\n"
          ]
        }
      ]
    },
    {
      "cell_type": "code",
      "metadata": {
        "id": "cgApmsdkBtiq",
        "colab": {
          "base_uri": "https://localhost:8080/"
        },
        "outputId": "ab85b473-8911-4b8d-9c88-c2461a535367"
      },
      "source": [
        "# Convert to NumPy\n",
        "np.array(arr)"
      ],
      "execution_count": null,
      "outputs": [
        {
          "output_type": "execute_result",
          "data": {
            "text/plain": [
              "array([[1, 2],\n",
              "       [3, 4]])"
            ]
          },
          "metadata": {},
          "execution_count": 4
        }
      ]
    },
    {
      "cell_type": "code",
      "metadata": {
        "collapsed": true,
        "id": "Em8h2a-BBtis"
      },
      "source": [
        "import torch"
      ],
      "execution_count": 3,
      "outputs": []
    },
    {
      "cell_type": "code",
      "source": [],
      "metadata": {
        "id": "obhww1kF1qW8"
      },
      "execution_count": null,
      "outputs": []
    },
    {
      "cell_type": "code",
      "metadata": {
        "id": "8NyZF06LBtit",
        "colab": {
          "base_uri": "https://localhost:8080/"
        },
        "outputId": "c4013da3-5d24-4cc5-84ed-5ab148fd5c17"
      },
      "source": [
        "# Convert to PyTorch Tensor\n",
        "torch.Tensor(arr)"
      ],
      "execution_count": null,
      "outputs": [
        {
          "output_type": "execute_result",
          "data": {
            "text/plain": [
              "tensor([[1., 2.],\n",
              "        [3., 4.]])"
            ]
          },
          "metadata": {},
          "execution_count": 6
        }
      ]
    },
    {
      "cell_type": "markdown",
      "metadata": {
        "id": "OX_li_kVBtiv"
      },
      "source": [
        "### 1.2 Create Matrices with Default Values"
      ]
    },
    {
      "cell_type": "code",
      "metadata": {
        "id": "nU84TUV3Btiv",
        "colab": {
          "base_uri": "https://localhost:8080/"
        },
        "outputId": "d977c4eb-28af-44b5-f1b4-2441440362bc"
      },
      "source": [
        "np.ones((2, 2))"
      ],
      "execution_count": null,
      "outputs": [
        {
          "output_type": "execute_result",
          "data": {
            "text/plain": [
              "array([[1., 1.],\n",
              "       [1., 1.]])"
            ]
          },
          "metadata": {},
          "execution_count": 7
        }
      ]
    },
    {
      "cell_type": "code",
      "metadata": {
        "id": "zdfKgLYwBtiw",
        "colab": {
          "base_uri": "https://localhost:8080/"
        },
        "outputId": "d3428462-a7f2-47e4-cca6-335cab4b7aa0"
      },
      "source": [
        "torch.ones((2, 2))"
      ],
      "execution_count": null,
      "outputs": [
        {
          "output_type": "execute_result",
          "data": {
            "text/plain": [
              "tensor([[1., 1.],\n",
              "        [1., 1.]])"
            ]
          },
          "metadata": {},
          "execution_count": 8
        }
      ]
    },
    {
      "cell_type": "code",
      "metadata": {
        "id": "kTyNC8W5Btix",
        "colab": {
          "base_uri": "https://localhost:8080/"
        },
        "outputId": "80595991-7ec8-4cea-871e-b838c6aca211"
      },
      "source": [
        "np.random.rand(2, 2)"
      ],
      "execution_count": null,
      "outputs": [
        {
          "output_type": "execute_result",
          "data": {
            "text/plain": [
              "array([[0.08224829, 0.25466666],\n",
              "       [0.01832574, 0.26418074]])"
            ]
          },
          "metadata": {},
          "execution_count": 9
        }
      ]
    },
    {
      "cell_type": "code",
      "metadata": {
        "id": "XFh2PHB5Btiy",
        "colab": {
          "base_uri": "https://localhost:8080/"
        },
        "outputId": "b7159b78-34d9-49e4-b00e-638f0a998957"
      },
      "source": [
        "torch.rand(2, 2)"
      ],
      "execution_count": null,
      "outputs": [
        {
          "output_type": "execute_result",
          "data": {
            "text/plain": [
              "tensor([[0.0373, 0.6257],\n",
              "        [0.8227, 0.0819]])"
            ]
          },
          "metadata": {},
          "execution_count": 10
        }
      ]
    },
    {
      "cell_type": "markdown",
      "metadata": {
        "id": "xMVVbtAzBtiz"
      },
      "source": [
        "### 1.3 Seeds for Reproducibility"
      ]
    },
    {
      "cell_type": "code",
      "metadata": {
        "id": "XYrXsWjmBtiz",
        "colab": {
          "base_uri": "https://localhost:8080/"
        },
        "outputId": "dfc92958-a677-4a8a-ba9b-a5915ad5c81d"
      },
      "source": [
        "# Seed\n",
        "np.random.seed(0)\n",
        "np.random.rand(2, 2)"
      ],
      "execution_count": null,
      "outputs": [
        {
          "output_type": "execute_result",
          "data": {
            "text/plain": [
              "array([[0.5488135 , 0.71518937],\n",
              "       [0.60276338, 0.54488318]])"
            ]
          },
          "metadata": {},
          "execution_count": 11
        }
      ]
    },
    {
      "cell_type": "code",
      "metadata": {
        "id": "2fWpwTTPBti0",
        "colab": {
          "base_uri": "https://localhost:8080/"
        },
        "outputId": "82b7680a-4cc6-4cd3-e19e-33f428826f60"
      },
      "source": [
        "# Seed\n",
        "np.random.seed(0)\n",
        "np.random.rand(2, 2)"
      ],
      "execution_count": null,
      "outputs": [
        {
          "output_type": "execute_result",
          "data": {
            "text/plain": [
              "array([[0.5488135 , 0.71518937],\n",
              "       [0.60276338, 0.54488318]])"
            ]
          },
          "metadata": {},
          "execution_count": 6
        }
      ]
    },
    {
      "cell_type": "code",
      "metadata": {
        "id": "NOqeTl-MBti1",
        "colab": {
          "base_uri": "https://localhost:8080/"
        },
        "outputId": "48eeb98f-2f5e-453e-cfdf-c315587983c9"
      },
      "source": [
        "# No seed\n",
        "np.random.rand(2, 2)"
      ],
      "execution_count": null,
      "outputs": [
        {
          "output_type": "execute_result",
          "data": {
            "text/plain": [
              "array([[0.40336084, 0.17131577],\n",
              "       [0.71965082, 0.29610519]])"
            ]
          },
          "metadata": {},
          "execution_count": 4
        }
      ]
    },
    {
      "cell_type": "code",
      "metadata": {
        "id": "DPI5MBdtBti2",
        "colab": {
          "base_uri": "https://localhost:8080/"
        },
        "outputId": "abe507e4-89d7-4b15-d126-30fa452c9019"
      },
      "source": [
        "# No seed\n",
        "np.random.rand(2, 2)"
      ],
      "execution_count": null,
      "outputs": [
        {
          "output_type": "execute_result",
          "data": {
            "text/plain": [
              "array([[0.96366276, 0.38344152],\n",
              "       [0.79172504, 0.52889492]])"
            ]
          },
          "metadata": {},
          "execution_count": 14
        }
      ]
    },
    {
      "cell_type": "code",
      "metadata": {
        "id": "WkHwGPCWBti3",
        "colab": {
          "base_uri": "https://localhost:8080/"
        },
        "outputId": "429db34f-b0f9-466e-eef4-1deab81da214"
      },
      "source": [
        "# Torch Seed\n",
        "torch.manual_seed(0)\n",
        "torch.rand(2, 2)"
      ],
      "execution_count": null,
      "outputs": [
        {
          "output_type": "execute_result",
          "data": {
            "text/plain": [
              "tensor([[0.4963, 0.7682],\n",
              "        [0.0885, 0.1320]])"
            ]
          },
          "metadata": {},
          "execution_count": 15
        }
      ]
    },
    {
      "cell_type": "code",
      "metadata": {
        "id": "8nJ9WnGeBti4",
        "colab": {
          "base_uri": "https://localhost:8080/"
        },
        "outputId": "fce11c47-169d-4bf6-f45b-501f59351b5d"
      },
      "source": [
        "# Torch Seed\n",
        "torch.manual_seed(0)\n",
        "torch.rand(2, 2)"
      ],
      "execution_count": null,
      "outputs": [
        {
          "output_type": "execute_result",
          "data": {
            "text/plain": [
              "tensor([[0.4963, 0.7682],\n",
              "        [0.0885, 0.1320]])"
            ]
          },
          "metadata": {},
          "execution_count": 16
        }
      ]
    },
    {
      "cell_type": "code",
      "metadata": {
        "id": "3jbOLm0IBti4",
        "colab": {
          "base_uri": "https://localhost:8080/"
        },
        "outputId": "e12982c5-bc4f-4b98-81fe-89a7ba5b64e6"
      },
      "source": [
        "# Torch No Seed\n",
        "torch.rand(2, 2)"
      ],
      "execution_count": null,
      "outputs": [
        {
          "output_type": "execute_result",
          "data": {
            "text/plain": [
              "tensor([[0.3074, 0.6341],\n",
              "        [0.4901, 0.8964]])"
            ]
          },
          "metadata": {},
          "execution_count": 17
        }
      ]
    },
    {
      "cell_type": "code",
      "metadata": {
        "id": "vgXRE8gsBti5",
        "colab": {
          "base_uri": "https://localhost:8080/"
        },
        "outputId": "0b24c118-b78d-4660-9e20-269d38d507f6"
      },
      "source": [
        "# Torch No Seed\n",
        "torch.rand(2, 2)"
      ],
      "execution_count": null,
      "outputs": [
        {
          "output_type": "execute_result",
          "data": {
            "text/plain": [
              "tensor([[0.4556, 0.6323],\n",
              "        [0.3489, 0.4017]])"
            ]
          },
          "metadata": {},
          "execution_count": 18
        }
      ]
    },
    {
      "cell_type": "markdown",
      "metadata": {
        "id": "Vr4PnOQ5Bti5"
      },
      "source": [
        "**Seed for GPU is different for now...**"
      ]
    },
    {
      "cell_type": "code",
      "metadata": {
        "collapsed": true,
        "id": "tlF53XNyBti6"
      },
      "source": [
        "if torch.cuda.is_available():\n",
        "    torch.cuda.manual_seed_all(0)"
      ],
      "execution_count": null,
      "outputs": []
    },
    {
      "cell_type": "markdown",
      "metadata": {
        "id": "EesW-8bnBti6"
      },
      "source": [
        "### 1.3 NumPy and Torch Bridge"
      ]
    },
    {
      "cell_type": "markdown",
      "metadata": {
        "id": "dAbm8E4OBti7"
      },
      "source": [
        "### NumPy to Torch"
      ]
    },
    {
      "cell_type": "code",
      "metadata": {
        "collapsed": true,
        "id": "NJyxjGQmBti7"
      },
      "source": [
        "# Numpy array\n",
        "np_array = np.ones((2, 2))"
      ],
      "execution_count": null,
      "outputs": []
    },
    {
      "cell_type": "code",
      "metadata": {
        "id": "_vPX4HQ8Bti7",
        "colab": {
          "base_uri": "https://localhost:8080/"
        },
        "outputId": "8c6dc02c-65ae-4aaf-96ef-c67e6667d45c"
      },
      "source": [
        "print(np_array)"
      ],
      "execution_count": null,
      "outputs": [
        {
          "output_type": "stream",
          "name": "stdout",
          "text": [
            "[[1. 1.]\n",
            " [1. 1.]]\n"
          ]
        }
      ]
    },
    {
      "cell_type": "code",
      "metadata": {
        "id": "HErAhDfhBti8",
        "colab": {
          "base_uri": "https://localhost:8080/"
        },
        "outputId": "286812e7-62ad-4265-df33-6058c415b240"
      },
      "source": [
        "print(type(np_array))"
      ],
      "execution_count": null,
      "outputs": [
        {
          "output_type": "stream",
          "name": "stdout",
          "text": [
            "<class 'numpy.ndarray'>\n"
          ]
        }
      ]
    },
    {
      "cell_type": "code",
      "metadata": {
        "collapsed": true,
        "id": "z3WJ0vVRBti8"
      },
      "source": [
        "# Convert to Torch Tensor\n",
        "torch_tensor = torch.from_numpy(np_array)"
      ],
      "execution_count": null,
      "outputs": []
    },
    {
      "cell_type": "code",
      "metadata": {
        "id": "YOw7co4eBti9",
        "colab": {
          "base_uri": "https://localhost:8080/"
        },
        "outputId": "3fbc182b-edfa-4758-e592-084244de1483"
      },
      "source": [
        "print(torch_tensor)"
      ],
      "execution_count": null,
      "outputs": [
        {
          "output_type": "stream",
          "name": "stdout",
          "text": [
            "tensor([[1., 1.],\n",
            "        [1., 1.]], dtype=torch.float64)\n"
          ]
        }
      ]
    },
    {
      "cell_type": "code",
      "metadata": {
        "id": "7WeYcU-XBti9",
        "colab": {
          "base_uri": "https://localhost:8080/"
        },
        "outputId": "08812c4d-cb98-4cf5-9a9b-3769e8b81e0e"
      },
      "source": [
        "print(type(torch_tensor))"
      ],
      "execution_count": null,
      "outputs": [
        {
          "output_type": "stream",
          "name": "stdout",
          "text": [
            "<class 'torch.Tensor'>\n"
          ]
        }
      ]
    },
    {
      "cell_type": "code",
      "metadata": {
        "id": "SL4Jl8DcBti-",
        "colab": {
          "base_uri": "https://localhost:8080/"
        },
        "outputId": "b78bdf34-8db6-4e26-b3f9-ff944208ed69"
      },
      "source": [
        "# Data types matter: intentional error\n",
        "np_array_new = np.ones((2, 2), dtype=np.int8)\n",
        "torch.from_numpy(np_array_new)"
      ],
      "execution_count": null,
      "outputs": [
        {
          "output_type": "execute_result",
          "data": {
            "text/plain": [
              "tensor([[1, 1],\n",
              "        [1, 1]], dtype=torch.int8)"
            ]
          },
          "metadata": {},
          "execution_count": 26
        }
      ]
    },
    {
      "cell_type": "markdown",
      "metadata": {
        "id": "MzltBlX0Bti-"
      },
      "source": [
        "**The conversion supports:**\n",
        "1. `double`\n",
        "2. `float`\n",
        "3. `int64`, `int32`, `uint8`"
      ]
    },
    {
      "cell_type": "code",
      "metadata": {
        "id": "sUDng9W_Bti_",
        "colab": {
          "base_uri": "https://localhost:8080/"
        },
        "outputId": "b2afe386-e74e-4308-a9b1-c653f15aee94"
      },
      "source": [
        "# Data types matter\n",
        "np_array_new = np.ones((2, 2), dtype=np.int64)\n",
        "torch.from_numpy(np_array_new)"
      ],
      "execution_count": null,
      "outputs": [
        {
          "output_type": "execute_result",
          "data": {
            "text/plain": [
              "tensor([[1, 1],\n",
              "        [1, 1]])"
            ]
          },
          "metadata": {},
          "execution_count": 27
        }
      ]
    },
    {
      "cell_type": "code",
      "metadata": {
        "id": "G54X8zFTBtjA",
        "colab": {
          "base_uri": "https://localhost:8080/"
        },
        "outputId": "aa3546a2-7592-46d1-fa7a-d5d88aa53c58"
      },
      "source": [
        "# Data types matter\n",
        "np_array_new = np.ones((2, 2), dtype=np.int32)\n",
        "torch.from_numpy(np_array_new)"
      ],
      "execution_count": null,
      "outputs": [
        {
          "output_type": "execute_result",
          "data": {
            "text/plain": [
              "tensor([[1, 1],\n",
              "        [1, 1]], dtype=torch.int32)"
            ]
          },
          "metadata": {},
          "execution_count": 28
        }
      ]
    },
    {
      "cell_type": "code",
      "metadata": {
        "id": "mkKSg4aoBtjA",
        "colab": {
          "base_uri": "https://localhost:8080/"
        },
        "outputId": "b76dfb19-b9e0-4c95-cd7d-2fb302b6fb95"
      },
      "source": [
        "# Data types matter\n",
        "np_array_new = np.ones((2, 2), dtype=np.uint8)\n",
        "torch.from_numpy(np_array_new)"
      ],
      "execution_count": null,
      "outputs": [
        {
          "output_type": "execute_result",
          "data": {
            "text/plain": [
              "tensor([[1, 1],\n",
              "        [1, 1]], dtype=torch.uint8)"
            ]
          },
          "metadata": {},
          "execution_count": 29
        }
      ]
    },
    {
      "cell_type": "code",
      "metadata": {
        "id": "HnHTDCn7BtjB",
        "colab": {
          "base_uri": "https://localhost:8080/"
        },
        "outputId": "5961b198-e564-47d3-d6b7-33eb5fb6140a"
      },
      "source": [
        "# Data types matter\n",
        "np_array_new = np.ones((2, 2), dtype=np.float64)\n",
        "torch.from_numpy(np_array_new)"
      ],
      "execution_count": null,
      "outputs": [
        {
          "output_type": "execute_result",
          "data": {
            "text/plain": [
              "tensor([[1., 1.],\n",
              "        [1., 1.]], dtype=torch.float64)"
            ]
          },
          "metadata": {},
          "execution_count": 30
        }
      ]
    },
    {
      "cell_type": "code",
      "metadata": {
        "id": "F_Q7hFiLBtjB",
        "colab": {
          "base_uri": "https://localhost:8080/"
        },
        "outputId": "683f12b7-98f8-4c5c-f645-1861cc239cd9"
      },
      "source": [
        "# Data types matter\n",
        "np_array_new = np.ones((2, 2), dtype=np.float32)\n",
        "torch.from_numpy(np_array_new)"
      ],
      "execution_count": null,
      "outputs": [
        {
          "output_type": "execute_result",
          "data": {
            "text/plain": [
              "tensor([[1., 1.],\n",
              "        [1., 1.]])"
            ]
          },
          "metadata": {},
          "execution_count": 31
        }
      ]
    },
    {
      "cell_type": "code",
      "metadata": {
        "id": "Virz0er4BtjC",
        "colab": {
          "base_uri": "https://localhost:8080/"
        },
        "outputId": "dd6710b2-46c6-49ca-fff9-8ff5a408bcc8"
      },
      "source": [
        "# Data types matter\n",
        "np_array_new = np.ones((2, 2), dtype=np.double)\n",
        "torch.from_numpy(np_array_new)"
      ],
      "execution_count": null,
      "outputs": [
        {
          "output_type": "execute_result",
          "data": {
            "text/plain": [
              "tensor([[1., 1.],\n",
              "        [1., 1.]], dtype=torch.float64)"
            ]
          },
          "metadata": {},
          "execution_count": 32
        }
      ]
    },
    {
      "cell_type": "markdown",
      "metadata": {
        "id": "bFfGblvCBtjC"
      },
      "source": [
        "**Summary**\n",
        "<br />These things don't matter much now. But later when you see error messages that require these particular tensor types, refer to this guide!"
      ]
    },
    {
      "cell_type": "markdown",
      "metadata": {
        "id": "WJTw_4iZBtjD"
      },
      "source": [
        "| NumPy Array Type        | Torch Tensor Type           |\n",
        "| :-------------: |:--------------:|\n",
        "| int64     | LongTensor |\n",
        "| int32     | IntegerTensor |\n",
        "| uint8      | ByteTensor      |\n",
        "| float64 | DoubleTensor     |\n",
        "| float32 | FloatTensor      |\n",
        "| double | DoubleTensor      |"
      ]
    },
    {
      "cell_type": "markdown",
      "metadata": {
        "id": "R9vUTd5DBtjD"
      },
      "source": [
        "### Torch to NumPy"
      ]
    },
    {
      "cell_type": "code",
      "metadata": {
        "collapsed": true,
        "id": "O4s3QsYIBtjE"
      },
      "source": [
        "torch_tensor = torch.ones(2, 2)"
      ],
      "execution_count": null,
      "outputs": []
    },
    {
      "cell_type": "code",
      "metadata": {
        "id": "3zWZmwfGBtjE",
        "colab": {
          "base_uri": "https://localhost:8080/"
        },
        "outputId": "f1dd682c-d47f-4d78-807a-c7542e99c85a"
      },
      "source": [
        "type(torch_tensor)"
      ],
      "execution_count": null,
      "outputs": [
        {
          "output_type": "execute_result",
          "data": {
            "text/plain": [
              "torch.Tensor"
            ]
          },
          "metadata": {},
          "execution_count": 34
        }
      ]
    },
    {
      "cell_type": "code",
      "metadata": {
        "collapsed": true,
        "id": "tpBONHoFBtjE"
      },
      "source": [
        "torch_to_numpy = torch_tensor.numpy()"
      ],
      "execution_count": null,
      "outputs": []
    },
    {
      "cell_type": "code",
      "metadata": {
        "id": "aKKsNej3BtjF",
        "colab": {
          "base_uri": "https://localhost:8080/"
        },
        "outputId": "d98bddad-b4cf-431e-fbbe-6bab086f0206"
      },
      "source": [
        "type(torch_to_numpy)"
      ],
      "execution_count": null,
      "outputs": [
        {
          "output_type": "execute_result",
          "data": {
            "text/plain": [
              "numpy.ndarray"
            ]
          },
          "metadata": {},
          "execution_count": 36
        }
      ]
    },
    {
      "cell_type": "markdown",
      "metadata": {
        "id": "sk2hgLigBtjF"
      },
      "source": [
        "### 1.4 Tensors on CPU vs GPU"
      ]
    },
    {
      "cell_type": "code",
      "metadata": {
        "collapsed": true,
        "id": "qxQ1PMbIBtjG"
      },
      "source": [
        "# CPU\n",
        "tensor_cpu = torch.ones(2, 2)"
      ],
      "execution_count": null,
      "outputs": []
    },
    {
      "cell_type": "code",
      "metadata": {
        "collapsed": true,
        "id": "Vak2oa2SBtjG"
      },
      "source": [
        "# CPU to GPU\n",
        "if torch.cuda.is_available():\n",
        "    tensor_cpu.cuda()"
      ],
      "execution_count": null,
      "outputs": []
    },
    {
      "cell_type": "code",
      "metadata": {
        "id": "GA5FLr-xBtjG",
        "colab": {
          "base_uri": "https://localhost:8080/"
        },
        "outputId": "ba009c70-a7bb-4cc5-8a53-97a3cd456628"
      },
      "source": [
        "# GPU to CPU\n",
        "tensor_cpu.cpu()"
      ],
      "execution_count": null,
      "outputs": [
        {
          "output_type": "execute_result",
          "data": {
            "text/plain": [
              "tensor([[1., 1.],\n",
              "        [1., 1.]])"
            ]
          },
          "metadata": {},
          "execution_count": 39
        }
      ]
    },
    {
      "cell_type": "markdown",
      "metadata": {
        "id": "92Wo0-Z_BtjH"
      },
      "source": [
        "### 1.5 Tensor Operations"
      ]
    },
    {
      "cell_type": "markdown",
      "metadata": {
        "id": "roE0g298BtjH"
      },
      "source": [
        "### Resizing Tensor"
      ]
    },
    {
      "cell_type": "code",
      "metadata": {
        "id": "C1Df8l7TBtjH",
        "colab": {
          "base_uri": "https://localhost:8080/"
        },
        "outputId": "9a4de529-b1a6-4db7-9919-1612c6d80598"
      },
      "source": [
        "a = torch.ones(2, 2)\n",
        "print(a)"
      ],
      "execution_count": null,
      "outputs": [
        {
          "output_type": "stream",
          "name": "stdout",
          "text": [
            "tensor([[1., 1.],\n",
            "        [1., 1.]])\n"
          ]
        }
      ]
    },
    {
      "cell_type": "code",
      "metadata": {
        "id": "ELyybfqVBtjI",
        "colab": {
          "base_uri": "https://localhost:8080/"
        },
        "outputId": "611d1cd7-1ab8-47df-b242-393827ee2705"
      },
      "source": [
        "print(a.size())"
      ],
      "execution_count": null,
      "outputs": [
        {
          "output_type": "stream",
          "name": "stdout",
          "text": [
            "torch.Size([2, 2])\n"
          ]
        }
      ]
    },
    {
      "cell_type": "code",
      "metadata": {
        "id": "O32JmopVBtjI",
        "colab": {
          "base_uri": "https://localhost:8080/"
        },
        "outputId": "b4b77e6f-61f1-4bbf-d28b-434e85a78176"
      },
      "source": [
        "a.view(4)"
      ],
      "execution_count": null,
      "outputs": [
        {
          "output_type": "execute_result",
          "data": {
            "text/plain": [
              "tensor([1., 1., 1., 1.])"
            ]
          },
          "metadata": {},
          "execution_count": 42
        }
      ]
    },
    {
      "cell_type": "code",
      "metadata": {
        "id": "g41n_3yPBtjI",
        "colab": {
          "base_uri": "https://localhost:8080/"
        },
        "outputId": "11885f0a-db62-4be4-c347-305bc2747995"
      },
      "source": [
        "a.view(4).size()"
      ],
      "execution_count": null,
      "outputs": [
        {
          "output_type": "execute_result",
          "data": {
            "text/plain": [
              "torch.Size([4])"
            ]
          },
          "metadata": {},
          "execution_count": 43
        }
      ]
    },
    {
      "cell_type": "markdown",
      "metadata": {
        "id": "CeqTTVw7BtjJ"
      },
      "source": [
        "### Element-wise Addition"
      ]
    },
    {
      "cell_type": "code",
      "metadata": {
        "id": "NDUE3XlaBtjJ",
        "colab": {
          "base_uri": "https://localhost:8080/"
        },
        "outputId": "fca9021e-ee90-4bda-b384-2e0909a838b4"
      },
      "source": [
        "a = torch.ones(2, 2)\n",
        "print(a)"
      ],
      "execution_count": null,
      "outputs": [
        {
          "output_type": "stream",
          "name": "stdout",
          "text": [
            "tensor([[1., 1.],\n",
            "        [1., 1.]])\n"
          ]
        }
      ]
    },
    {
      "cell_type": "code",
      "metadata": {
        "id": "AguZ-CtqBtjK",
        "colab": {
          "base_uri": "https://localhost:8080/"
        },
        "outputId": "c2369f18-7c5d-4e8c-d3f7-2fafb67007dc"
      },
      "source": [
        "b = torch.ones(2, 2)\n",
        "print(b)"
      ],
      "execution_count": null,
      "outputs": [
        {
          "output_type": "stream",
          "name": "stdout",
          "text": [
            "tensor([[1., 1.],\n",
            "        [1., 1.]])\n"
          ]
        }
      ]
    },
    {
      "cell_type": "code",
      "metadata": {
        "id": "midvz9enBtjK",
        "colab": {
          "base_uri": "https://localhost:8080/"
        },
        "outputId": "5dab4ae3-03bf-467e-cd88-7f8faca2e56c"
      },
      "source": [
        "# Element-wise addition\n",
        "c = a + b\n",
        "print(c)"
      ],
      "execution_count": null,
      "outputs": [
        {
          "output_type": "stream",
          "name": "stdout",
          "text": [
            "tensor([[2., 2.],\n",
            "        [2., 2.]])\n"
          ]
        }
      ]
    },
    {
      "cell_type": "code",
      "metadata": {
        "id": "LTcccbXoBtjK",
        "colab": {
          "base_uri": "https://localhost:8080/"
        },
        "outputId": "b794713d-1e45-4730-e914-fd157a2ba4dd"
      },
      "source": [
        "# Element-wise addition\n",
        "c = torch.add(a, b)\n",
        "print(c)"
      ],
      "execution_count": null,
      "outputs": [
        {
          "output_type": "stream",
          "name": "stdout",
          "text": [
            "tensor([[2., 2.],\n",
            "        [2., 2.]])\n"
          ]
        }
      ]
    },
    {
      "cell_type": "code",
      "metadata": {
        "id": "7ehDTQlyBtjL",
        "colab": {
          "base_uri": "https://localhost:8080/"
        },
        "outputId": "b4673d19-8dee-42fb-8e20-1140cef9a4d3"
      },
      "source": [
        "# In-place addition\n",
        "print('Old c tensor')\n",
        "print(c)\n",
        "\n",
        "c.add_(a)\n",
        "\n",
        "print('-'*60)\n",
        "print('New c tensor')\n",
        "print(c)"
      ],
      "execution_count": null,
      "outputs": [
        {
          "output_type": "stream",
          "name": "stdout",
          "text": [
            "Old c tensor\n",
            "tensor([[2., 2.],\n",
            "        [2., 2.]])\n",
            "------------------------------------------------------------\n",
            "New c tensor\n",
            "tensor([[3., 3.],\n",
            "        [3., 3.]])\n"
          ]
        }
      ]
    },
    {
      "cell_type": "markdown",
      "metadata": {
        "id": "6u0Ia_oLBtjL"
      },
      "source": [
        "### Element-wise Subtraction"
      ]
    },
    {
      "cell_type": "code",
      "metadata": {
        "id": "tLrzVSYzBtjL",
        "colab": {
          "base_uri": "https://localhost:8080/"
        },
        "outputId": "37b2f887-783b-4832-bfec-896f1c589584"
      },
      "source": [
        "print(a)\n",
        "print(b)"
      ],
      "execution_count": null,
      "outputs": [
        {
          "output_type": "stream",
          "name": "stdout",
          "text": [
            "tensor([[1., 1.],\n",
            "        [1., 1.]])\n",
            "tensor([[1., 1.],\n",
            "        [1., 1.]])\n"
          ]
        }
      ]
    },
    {
      "cell_type": "code",
      "metadata": {
        "id": "gzBIvpadBtjM",
        "colab": {
          "base_uri": "https://localhost:8080/"
        },
        "outputId": "2d11695f-02ca-456b-e144-4d582aa0078c"
      },
      "source": [
        "a - b"
      ],
      "execution_count": null,
      "outputs": [
        {
          "output_type": "execute_result",
          "data": {
            "text/plain": [
              "tensor([[0., 0.],\n",
              "        [0., 0.]])"
            ]
          },
          "metadata": {},
          "execution_count": 50
        }
      ]
    },
    {
      "cell_type": "code",
      "metadata": {
        "id": "IWiXzuWyBtjM",
        "colab": {
          "base_uri": "https://localhost:8080/"
        },
        "outputId": "aa2dff4a-98d1-4485-e1e5-1332741994e9"
      },
      "source": [
        "# Not in-place\n",
        "print(a.sub(b))\n",
        "print(a)"
      ],
      "execution_count": null,
      "outputs": [
        {
          "output_type": "stream",
          "name": "stdout",
          "text": [
            "tensor([[0., 0.],\n",
            "        [0., 0.]])\n",
            "tensor([[1., 1.],\n",
            "        [1., 1.]])\n"
          ]
        }
      ]
    },
    {
      "cell_type": "code",
      "metadata": {
        "id": "QbhcF2j_BtjM",
        "colab": {
          "base_uri": "https://localhost:8080/"
        },
        "outputId": "aa659597-a8ea-4e03-a88e-ab87c9d4871a"
      },
      "source": [
        "# Inplace\n",
        "print(a.sub_(b))\n",
        "print(a)"
      ],
      "execution_count": null,
      "outputs": [
        {
          "output_type": "stream",
          "name": "stdout",
          "text": [
            "tensor([[0., 0.],\n",
            "        [0., 0.]])\n",
            "tensor([[0., 0.],\n",
            "        [0., 0.]])\n"
          ]
        }
      ]
    },
    {
      "cell_type": "markdown",
      "metadata": {
        "id": "S9rWkknJBtjN"
      },
      "source": [
        "### Element-Wise Multiplication"
      ]
    },
    {
      "cell_type": "code",
      "metadata": {
        "id": "ap87S2JRBtjN",
        "colab": {
          "base_uri": "https://localhost:8080/"
        },
        "outputId": "f774d13f-abef-4c49-f16e-4564a3c864d1"
      },
      "source": [
        "a = torch.ones(2, 2)\n",
        "print(a)\n",
        "b = torch.zeros(2, 2)\n",
        "print(b)"
      ],
      "execution_count": null,
      "outputs": [
        {
          "output_type": "stream",
          "name": "stdout",
          "text": [
            "tensor([[1., 1.],\n",
            "        [1., 1.]])\n",
            "tensor([[0., 0.],\n",
            "        [0., 0.]])\n"
          ]
        }
      ]
    },
    {
      "cell_type": "code",
      "metadata": {
        "id": "Pee0snY4BtjN",
        "colab": {
          "base_uri": "https://localhost:8080/"
        },
        "outputId": "a5bb26db-5828-43a6-dc0c-4865a1b594f8"
      },
      "source": [
        "a * b"
      ],
      "execution_count": null,
      "outputs": [
        {
          "output_type": "execute_result",
          "data": {
            "text/plain": [
              "tensor([[0., 0.],\n",
              "        [0., 0.]])"
            ]
          },
          "metadata": {},
          "execution_count": 54
        }
      ]
    },
    {
      "cell_type": "code",
      "metadata": {
        "id": "zm5nz07sBtjO",
        "colab": {
          "base_uri": "https://localhost:8080/"
        },
        "outputId": "5ba81f9c-f625-4245-ee3a-df545bbc7855"
      },
      "source": [
        "# Not in-place\n",
        "print(torch.mul(a, b))\n",
        "print(a)"
      ],
      "execution_count": null,
      "outputs": [
        {
          "output_type": "stream",
          "name": "stdout",
          "text": [
            "tensor([[0., 0.],\n",
            "        [0., 0.]])\n",
            "tensor([[1., 1.],\n",
            "        [1., 1.]])\n"
          ]
        }
      ]
    },
    {
      "cell_type": "code",
      "metadata": {
        "id": "O8ci1jD9BtjO",
        "colab": {
          "base_uri": "https://localhost:8080/"
        },
        "outputId": "f6e86560-2181-4468-83d9-39b5d27d6bbb"
      },
      "source": [
        "# In-place\n",
        "print(a.mul_(b))\n",
        "print(a)"
      ],
      "execution_count": null,
      "outputs": [
        {
          "output_type": "stream",
          "name": "stdout",
          "text": [
            "tensor([[0., 0.],\n",
            "        [0., 0.]])\n",
            "tensor([[0., 0.],\n",
            "        [0., 0.]])\n"
          ]
        }
      ]
    },
    {
      "cell_type": "markdown",
      "metadata": {
        "id": "vEQh32BABtjO"
      },
      "source": [
        "### Element-Wise Division"
      ]
    },
    {
      "cell_type": "code",
      "metadata": {
        "collapsed": true,
        "id": "dRivX4iLBtjP"
      },
      "source": [
        "a = torch.ones(2, 2)\n",
        "b = torch.zeros(2, 2)"
      ],
      "execution_count": null,
      "outputs": []
    },
    {
      "cell_type": "code",
      "metadata": {
        "id": "DzDYrHbLBtjP",
        "colab": {
          "base_uri": "https://localhost:8080/"
        },
        "outputId": "cf086b8a-4aee-4c91-d23f-856eac97c88d"
      },
      "source": [
        "b / a"
      ],
      "execution_count": null,
      "outputs": [
        {
          "output_type": "execute_result",
          "data": {
            "text/plain": [
              "tensor([[0., 0.],\n",
              "        [0., 0.]])"
            ]
          },
          "metadata": {},
          "execution_count": 58
        }
      ]
    },
    {
      "cell_type": "code",
      "metadata": {
        "id": "refU7RDJBtjP",
        "colab": {
          "base_uri": "https://localhost:8080/"
        },
        "outputId": "5ab04591-bf49-4e06-fd2d-cdf090ac9d79"
      },
      "source": [
        "torch.div(b, a)"
      ],
      "execution_count": null,
      "outputs": [
        {
          "output_type": "execute_result",
          "data": {
            "text/plain": [
              "tensor([[0., 0.],\n",
              "        [0., 0.]])"
            ]
          },
          "metadata": {},
          "execution_count": 59
        }
      ]
    },
    {
      "cell_type": "code",
      "metadata": {
        "id": "PqgCDxyPBtjP",
        "colab": {
          "base_uri": "https://localhost:8080/"
        },
        "outputId": "b0594645-cb1e-4afb-a477-a1943c2ecbd7"
      },
      "source": [
        "# Inplace\n",
        "b.div_(a)"
      ],
      "execution_count": null,
      "outputs": [
        {
          "output_type": "execute_result",
          "data": {
            "text/plain": [
              "tensor([[0., 0.],\n",
              "        [0., 0.]])"
            ]
          },
          "metadata": {},
          "execution_count": 60
        }
      ]
    },
    {
      "cell_type": "markdown",
      "metadata": {
        "id": "emDb1iPyBtjQ"
      },
      "source": [
        "### Tensor Mean"
      ]
    },
    {
      "cell_type": "markdown",
      "metadata": {
        "id": "ZTq05AHABtjQ"
      },
      "source": [
        "- $1 + 2 + 3 + 4 + 5 + 6 + 7 + 8 + 9 + 10 = 55$\n",
        "- $mean = 55 /10 = 5.5$\n"
      ]
    },
    {
      "cell_type": "code",
      "metadata": {
        "id": "g3vVG54QBtjQ",
        "colab": {
          "base_uri": "https://localhost:8080/"
        },
        "outputId": "e2051fff-5827-4e05-ddb8-6ef42e464cdb"
      },
      "source": [
        "a = torch.Tensor([1, 2, 3, 4, 5, 6, 7, 8, 9, 10])\n",
        "a.size()"
      ],
      "execution_count": 6,
      "outputs": [
        {
          "output_type": "execute_result",
          "data": {
            "text/plain": [
              "torch.Size([10])"
            ]
          },
          "metadata": {},
          "execution_count": 6
        }
      ]
    },
    {
      "cell_type": "code",
      "metadata": {
        "id": "U-QCaCIlBtjR",
        "colab": {
          "base_uri": "https://localhost:8080/"
        },
        "outputId": "5e903671-6e5d-497f-ebec-68e019a84b5e"
      },
      "source": [
        "a.mean(dim=0)"
      ],
      "execution_count": 7,
      "outputs": [
        {
          "output_type": "execute_result",
          "data": {
            "text/plain": [
              "tensor(5.5000)"
            ]
          },
          "metadata": {},
          "execution_count": 7
        }
      ]
    },
    {
      "cell_type": "code",
      "metadata": {
        "id": "ab8CcIwvBtjR",
        "colab": {
          "base_uri": "https://localhost:8080/"
        },
        "outputId": "4eac0039-bd8b-460e-9d22-4e42205593c3"
      },
      "source": [
        "a.mean(dim=1)"
      ],
      "execution_count": 12,
      "outputs": [
        {
          "output_type": "execute_result",
          "data": {
            "text/plain": [
              "tensor([5.5000, 5.5000])"
            ]
          },
          "metadata": {},
          "execution_count": 12
        }
      ]
    },
    {
      "cell_type": "code",
      "metadata": {
        "collapsed": true,
        "id": "fiSsGmf6BtjR"
      },
      "source": [
        "a = torch.Tensor([[1, 2, 3, 4, 5, 6, 7, 8, 9, 10], [1, 2, 3, 4, 5, 6, 7, 8, 9, 10]])"
      ],
      "execution_count": 9,
      "outputs": []
    },
    {
      "cell_type": "code",
      "metadata": {
        "id": "i244X8awBtjR",
        "outputId": "f18772b1-d942-4bdb-db89-010ebbbc91a2",
        "colab": {
          "base_uri": "https://localhost:8080/"
        }
      },
      "source": [
        "a.size()"
      ],
      "execution_count": 10,
      "outputs": [
        {
          "output_type": "execute_result",
          "data": {
            "text/plain": [
              "torch.Size([2, 10])"
            ]
          },
          "metadata": {},
          "execution_count": 10
        }
      ]
    },
    {
      "cell_type": "code",
      "metadata": {
        "id": "a7WCbJMfBtjS",
        "outputId": "342a351e-51c6-4964-b30a-a122dfc66001",
        "colab": {
          "base_uri": "https://localhost:8080/"
        }
      },
      "source": [
        "a.mean(dim=1)"
      ],
      "execution_count": 11,
      "outputs": [
        {
          "output_type": "execute_result",
          "data": {
            "text/plain": [
              "tensor([5.5000, 5.5000])"
            ]
          },
          "metadata": {},
          "execution_count": 11
        }
      ]
    },
    {
      "cell_type": "markdown",
      "metadata": {
        "id": "pzwNAZN5BtjS"
      },
      "source": [
        "## Tensor Standard Deviation"
      ]
    },
    {
      "cell_type": "code",
      "metadata": {
        "id": "p7B6WwS3BtjS"
      },
      "source": [
        "a = torch.Tensor([1, 2, 3, 4, 5, 6, 7, 8, 9, 10])\n",
        "a.std(dim=0)"
      ],
      "execution_count": null,
      "outputs": []
    },
    {
      "cell_type": "markdown",
      "metadata": {
        "id": "me80u0krBtjT"
      },
      "source": [
        "---\n",
        "# We've learnt to...\n",
        "1. Create Matrices\n",
        "2. Create Matrices with Default Initialization Values\n",
        "    - Zeros\n",
        "    - Ones\n",
        "3. Initialize Seeds for Reproducibility on GPU and CPU\n",
        "4. Convert Matrices: NumPy => Torch and Torch => NumPy\n",
        "5. Move Tensors: CPU => GPU and GPU => CPU\n",
        "6. Run Important Tensor Operations\n",
        "    - Element-wise addition, subtraction, multiplication and division\n",
        "    - Resize\n",
        "    - Calculate mean\n",
        "    - Calculate standard deviation"
      ]
    }
  ]
}