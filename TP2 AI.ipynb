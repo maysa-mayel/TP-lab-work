{
 "cells": [
  {
   "cell_type": "code",
   "execution_count": 1,
   "metadata": {},
   "outputs": [
    {
     "name": "stdout",
     "output_type": "stream",
     "text": [
      "WARNING:tensorflow:From c:\\Users\\LENOVO\\AppData\\Local\\Programs\\Python\\Python311\\Lib\\site-packages\\keras\\src\\losses.py:2976: The name tf.losses.sparse_softmax_cross_entropy is deprecated. Please use tf.compat.v1.losses.sparse_softmax_cross_entropy instead.\n",
      "\n"
     ]
    }
   ],
   "source": [
    "import tensorflow as tf\n",
    "from matplotlib import pyplot as plt\n",
    "import numpy as np\n",
    "import pandas as pd"
   ]
  },
  {
   "cell_type": "code",
   "execution_count": 2,
   "metadata": {},
   "outputs": [
    {
     "name": "stdout",
     "output_type": "stream",
     "text": [
      "(60000, 785) (10000, 785)\n"
     ]
    }
   ],
   "source": [
    "\n",
    "train =pd.read_csv('D:/ENETCOM 4/tp2ai/mnist_train.csv')\n",
    "test = pd.read_csv('D:/ENETCOM 4/tp2ai/mnist_test.csv')\n",
    "print (train. shape, test.shape)"
   ]
  },
  {
   "cell_type": "code",
   "execution_count": 3,
   "metadata": {},
   "outputs": [
    {
     "data": {
      "image/png": "[encoded data removed]",
      "text/plain": [
       "<Figure size 640x480 with 1 Axes>"
      ]
     },
     "metadata": {},
     "output_type": "display_data"
    }
   ],
   "source": [
    "X_train = train.iloc[:, 1:].to_numpy ()\n",
    "y_train=train ['label'].to_numpy()\n",
    "\n",
    "import matplotlib.pyplot as plt \n",
    "plt.imshow(X_train [23]. reshape (28,28))\n",
    "\n",
    "\n",
    "y_train [23]\n",
    "\n",
    "\n",
    "X_train=X_train.reshape (60000,784) \n",
    "y_train =y_train.reshape (60000,1) \n",
    "X_test = test.iloc[:,1:].to_numpy () \n",
    "y_test = test['label'].to_numpy ()\n",
    "X_train= X_train/255\n",
    "X_test= X_test/255"
   ]
  },
  {
   "cell_type": "code",
   "execution_count": 5,
   "metadata": {},
   "outputs": [],
   "source": [
    "\n",
    "import tensorflow\n",
    "from tensorflow import keras\n",
    "from tensorflow.keras import Sequential\n",
    "from tensorflow.keras.layers import Dense, Flatten"
   ]
  },
  {
   "cell_type": "code",
   "execution_count": 6,
   "metadata": {},
   "outputs": [
    {
     "name": "stdout",
     "output_type": "stream",
     "text": [
      "WARNING:tensorflow:From c:\\Users\\LENOVO\\AppData\\Local\\Programs\\Python\\Python311\\Lib\\site-packages\\keras\\src\\backend.py:873: The name tf.get_default_graph is deprecated. Please use tf.compat.v1.get_default_graph instead.\n",
      "\n"
     ]
    }
   ],
   "source": [
    "\n",
    "model=Sequential ()\n",
    "model.add (Dense (128, activation='relu', input_dim=784))\n",
    "model.add (Dense (10, activation='softmax'))"
   ]
  },
  {
   "cell_type": "code",
   "execution_count": 11,
   "metadata": {},
   "outputs": [
    {
     "name": "stdout",
     "output_type": "stream",
     "text": [
      "Model: \"sequential\"\n",
      "_________________________________________________________________\n",
      " Layer (type)                Output Shape              Param #   \n",
      "=================================================================\n",
      " dense (Dense)               (None, 128)               100480    \n",
      "                                                                 \n",
      " dense_1 (Dense)             (None, 10)                1290      \n",
      "                                                                 \n",
      "=================================================================\n",
      "Total params: 101770 (397.54 KB)\n",
      "Trainable params: 101770 (397.54 KB)\n",
      "Non-trainable params: 0 (0.00 Byte)\n",
      "_________________________________________________________________\n"
     ]
    }
   ],
   "source": [
    "model.summary()"
   ]
  },
  {
   "cell_type": "code",
   "execution_count": 8,
   "metadata": {},
   "outputs": [
    {
     "name": "stdout",
     "output_type": "stream",
     "text": [
      "Epoch 1/15\n",
      "WARNING:tensorflow:From c:\\Users\\LENOVO\\AppData\\Local\\Programs\\Python\\Python311\\Lib\\site-packages\\keras\\src\\utils\\tf_utils.py:492: The name tf.ragged.RaggedTensorValue is deprecated. Please use tf.compat.v1.ragged.RaggedTensorValue instead.\n",
      "\n",
      "WARNING:tensorflow:From c:\\Users\\LENOVO\\AppData\\Local\\Programs\\Python\\Python311\\Lib\\site-packages\\keras\\src\\engine\\base_layer_utils.py:384: The name tf.executing_eagerly_outside_functions is deprecated. Please use tf.compat.v1.executing_eagerly_outside_functions instead.\n",
      "\n",
      "1500/1500 [==============================] - 4s 2ms/step - loss: 0.2905 - Accuracy: 0.9172 - val_loss: 0.1591 - val_Accuracy: 0.9536\n",
      "Epoch 2/15\n",
      "1500/1500 [==============================] - 3s 2ms/step - loss: 0.1320 - Accuracy: 0.9616 - val_loss: 0.1388 - val_Accuracy: 0.9603\n",
      "Epoch 3/15\n",
      "1500/1500 [==============================] - 3s 2ms/step - loss: 0.0898 - Accuracy: 0.9728 - val_loss: 0.0997 - val_Accuracy: 0.9710\n",
      "Epoch 4/15\n",
      "1500/1500 [==============================] - 3s 2ms/step - loss: 0.0673 - Accuracy: 0.9794 - val_loss: 0.0946 - val_Accuracy: 0.9704\n",
      "Epoch 5/15\n",
      "1500/1500 [==============================] - 3s 2ms/step - loss: 0.0510 - Accuracy: 0.9847 - val_loss: 0.0943 - val_Accuracy: 0.9726\n",
      "Epoch 6/15\n",
      "1500/1500 [==============================] - 3s 2ms/step - loss: 0.0415 - Accuracy: 0.9880 - val_loss: 0.0871 - val_Accuracy: 0.9748\n",
      "Epoch 7/15\n",
      "1500/1500 [==============================] - 3s 2ms/step - loss: 0.0308 - Accuracy: 0.9909 - val_loss: 0.0941 - val_Accuracy: 0.9722\n",
      "Epoch 8/15\n",
      "1500/1500 [==============================] - 3s 2ms/step - loss: 0.0257 - Accuracy: 0.9921 - val_loss: 0.1070 - val_Accuracy: 0.9688\n",
      "Epoch 9/15\n",
      "1500/1500 [==============================] - 3s 2ms/step - loss: 0.0213 - Accuracy: 0.9936 - val_loss: 0.0962 - val_Accuracy: 0.9745\n",
      "Epoch 10/15\n",
      "1500/1500 [==============================] - 3s 2ms/step - loss: 0.0167 - Accuracy: 0.9951 - val_loss: 0.0982 - val_Accuracy: 0.9741\n",
      "Epoch 11/15\n",
      "1500/1500 [==============================] - 3s 2ms/step - loss: 0.0142 - Accuracy: 0.9959 - val_loss: 0.0894 - val_Accuracy: 0.9775\n",
      "Epoch 12/15\n",
      "1500/1500 [==============================] - 3s 2ms/step - loss: 0.0121 - Accuracy: 0.9964 - val_loss: 0.1168 - val_Accuracy: 0.9717\n",
      "Epoch 13/15\n",
      "1500/1500 [==============================] - 3s 2ms/step - loss: 0.0105 - Accuracy: 0.9969 - val_loss: 0.1088 - val_Accuracy: 0.9750\n",
      "Epoch 14/15\n",
      "1500/1500 [==============================] - 3s 2ms/step - loss: 0.0079 - Accuracy: 0.9981 - val_loss: 0.1152 - val_Accuracy: 0.9739\n",
      "Epoch 15/15\n",
      "1500/1500 [==============================] - 3s 2ms/step - loss: 0.0108 - Accuracy: 0.9967 - val_loss: 0.1050 - val_Accuracy: 0.9758\n"
     ]
    }
   ],
   "source": [
    "\n",
    "model.compile (loss='sparse_categorical_crossentropy', optimizer='Adam', \n",
    "               metrics=['Accuracy'])\n",
    "history=model.fit (X_train, y_train, epochs=15, validation_split =0.2)"
   ]
  },
  {
   "cell_type": "code",
   "execution_count": 10,
   "metadata": {},
   "outputs": [
    {
     "name": "stdout",
     "output_type": "stream",
     "text": [
      "313/313 [==============================] - 0s 908us/step\n"
     ]
    },
    {
     "data": {
      "text/plain": [
       "0.978"
      ]
     },
     "execution_count": 10,
     "metadata": {},
     "output_type": "execute_result"
    }
   ],
   "source": [
    "y_prob=model.predict(X_test)\n",
    "y_pred=y_prob.argmax(axis=1)\n",
    "from sklearn.metrics import accuracy_score \n",
    "accuracy_score (y_test, y_pred)"
   ]
  }
 ],
 "metadata": {
  "kernelspec": {
   "display_name": "Python 3",
   "language": "python",
   "name": "python3"
  },
  "language_info": {
   "codemirror_mode": {
    "name": "ipython",
    "version": 3
   },
   "file_extension": ".py",
   "mimetype": "text/x-python",
   "name": "python",
   "nbconvert_exporter": "python",
   "pygments_lexer": "ipython3",
   "version": "3.11.2"
  }
 },
 "nbformat": 4,
 "nbformat_minor": 2
}
